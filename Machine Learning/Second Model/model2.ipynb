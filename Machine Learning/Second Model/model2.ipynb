{
 "cells": [
  {
   "cell_type": "code",
   "execution_count": null,
   "metadata": {},
   "outputs": [],
   "source": [
    "import pandas as pd\n",
    "import dask.dataframe as dd"
   ]
  },
  {
   "cell_type": "markdown",
   "metadata": {},
   "source": [
    "### Los sets de train, test y val son los mismos utilizados en el otro modelo. Ahi esta todo el proceso"
   ]
  },
  {
   "cell_type": "markdown",
   "metadata": {},
   "source": [
    "# Hyper Parameter Search"
   ]
  },
  {
   "cell_type": "code",
   "execution_count": null,
   "metadata": {},
   "outputs": [],
   "source": [
    "from sklearn.neural_network import MLPClassifier\n",
    "from dask_ml.model_selection import RandomizedSearchCV as DaskRandomizedSearchCV  \n",
    "train_ddf = dd.read_parquet('train_normalized.parq').sample(frac=0.015)\n",
    "y_train = train_ddf['label']\n",
    "train_df = train_ddf.drop('label', axis=1)\n",
    "model = MLPClassifier()\n",
    "param_grid = {\n",
    "    'hidden_layer_sizes': [(50,), (100,), (50, 50), (100, 50)],\n",
    "    'activation': ['tanh', 'relu', 'logistic'],\n",
    "    'solver': ['sgd', 'adam', 'lbfgs'],\n",
    "    'learning_rate': ['constant','adaptive']}\n",
    "search = DaskRandomizedSearchCV(model, param_grid, random_state=42, scoring='f1')\n",
    "search.fit(train_df, y_train)\n",
    "print(f'Best score: {search.best_score_}')\n",
    "print(f'Best params: {search.best_params_}')\n",
    "print(f'Best estimator: {search.best_estimator_}')"
   ]
  },
  {
   "cell_type": "markdown",
   "metadata": {},
   "source": [
    "# Training"
   ]
  },
  {
   "cell_type": "code",
   "execution_count": 2,
   "metadata": {},
   "outputs": [
    {
     "name": "stdout",
     "output_type": "stream",
     "text": [
      "Entrenamiento completo para todos los batches\n",
      "Puntaje F1 del modelo: 0.7177400664383387\n"
     ]
    }
   ],
   "source": [
    "import pyarrow.parquet as pq\n",
    "from sklearn.metrics import f1_score  \n",
    "from sklearn.neural_network import MLPClassifier\n",
    "\n",
    "train_df = pq.ParquetFile('train_normalized.parq')\n",
    "\n",
    "model = MLPClassifier(max_iter=40)\n",
    "for batch in train_df.iter_batches(batch_size=100000):\n",
    "    df_batch = batch.to_pandas()\n",
    "    y_batch = df_batch['label']\n",
    "    X_batch = df_batch.drop('label', axis=1)  \n",
    "    # Entrena el modelo en el lote actual\n",
    "    model.partial_fit(X_batch, y_batch, classes=[0, 1])\n",
    "\n",
    "print('Entrenamiento completo para todos los batches')\n",
    "valid_df = pd.read_parquet('val_normalized.parq')\n",
    "y_valid = valid_df['label']\n",
    "X_valid = valid_df.drop('label', axis=1)\n",
    "\n",
    "y_pred = model.predict(X_valid)  \n",
    "f1 = f1_score(y_valid, y_pred)\n",
    "print(f'Puntaje F1 del modelo: {f1}')"
   ]
  },
  {
   "cell_type": "markdown",
   "metadata": {},
   "source": [
    "# Predict for test"
   ]
  },
  {
   "cell_type": "code",
   "execution_count": 3,
   "metadata": {},
   "outputs": [],
   "source": [
    "train_df = pd.read_parquet('train_normalized.parq')\n",
    "test_df = pd.read_parquet('test_normalized.parq')\n",
    "ips = test_df['attacker_ip_enum']\n",
    "train_df = train_df.drop('label', axis=1)\n",
    "feature_names = train_df.columns\n",
    "# Reordenar las columnas en X_test para que coincida con el orden del conjunto de entrenamiento\n",
    "X_test_reordered = test_df[feature_names]"
   ]
  },
  {
   "cell_type": "code",
   "execution_count": null,
   "metadata": {},
   "outputs": [],
   "source": [
    "y_pred = model.predict(X_test_reordered)\n",
    "kaggle_df = pd.DataFrame({'attacker_ip_enum': ips, 'label': y_pred})\n",
    "kaggle_df = kaggle_df.groupby('attacker_ip_enum')['label'].apply(lambda x: x.mode().iloc[0]).reset_index(name='label')\n",
    "kaggle_df.to_csv('submission_mlp_model.csv', index=False)"
   ]
  }
 ],
 "metadata": {
  "kernelspec": {
   "display_name": "Python 3",
   "language": "python",
   "name": "python3"
  },
  "language_info": {
   "codemirror_mode": {
    "name": "ipython",
    "version": 3
   },
   "file_extension": ".py",
   "mimetype": "text/x-python",
   "name": "python",
   "nbconvert_exporter": "python",
   "pygments_lexer": "ipython3",
   "version": "3.9.7"
  }
 },
 "nbformat": 4,
 "nbformat_minor": 2
}
