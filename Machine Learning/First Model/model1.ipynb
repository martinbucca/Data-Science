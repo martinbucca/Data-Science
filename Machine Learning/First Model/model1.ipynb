{
 "cells": [
  {
   "cell_type": "code",
   "execution_count": null,
   "metadata": {},
   "outputs": [],
   "source": [
    "import pandas as pd\n",
    "import dask.dataframe as dd\n",
    "import ast"
   ]
  },
  {
   "cell_type": "markdown",
   "metadata": {},
   "source": [
    "# Preprocessing"
   ]
  },
  {
   "cell_type": "code",
   "execution_count": 2,
   "metadata": {},
   "outputs": [],
   "source": [
    "train_df = dd.read_parquet('train.parq')\n",
    "test_df = dd.read_parquet('test.parq')\n",
    "shodan_df = dd.read_csv('shodan_df_hashed.csv')"
   ]
  },
  {
   "cell_type": "code",
   "execution_count": 3,
   "metadata": {},
   "outputs": [],
   "source": [
    "train_df['attack_month'] = train_df['attack_time'].map(lambda x: x.month).astype('int8')\n",
    "train_df['attack_day'] = train_df['attack_time'].map(lambda x: x.day).astype('int8')\n",
    "train_df['attack_hour'] = train_df['attack_time'].map(lambda x: x.hour).astype('int8')\n",
    "\n",
    "test_df['attack_month'] = test_df['attack_time'].map(lambda x: x.month).astype('int8')\n",
    "test_df['attack_day'] = test_df['attack_time'].map(lambda x: x.day).astype('int8')\n",
    "test_df['attack_hour'] = test_df['attack_time'].map(lambda x: x.hour).astype('int8')\n"
   ]
  },
  {
   "cell_type": "code",
   "execution_count": 4,
   "metadata": {},
   "outputs": [],
   "source": [
    "train_df = train_df.drop(['watcher_as_num', 'attack_time'], axis=1)\n",
    "test_df = test_df.drop(['watcher_as_num', 'attack_time'], axis=1)"
   ]
  },
  {
   "cell_type": "markdown",
   "metadata": {},
   "source": [
    "# Features with attack_type"
   ]
  },
  {
   "cell_type": "code",
   "execution_count": 5,
   "metadata": {},
   "outputs": [],
   "source": [
    "train_df[['service', 'attack_type']] = train_df['attack_type'].str.split(':', expand=True, n=1).astype('category')\n",
    "train_df = train_df.rename(columns={'attack_type': 'type'})\n",
    "\n",
    "test_df[['service', 'attack_type']] = test_df['attack_type'].str.split(':', expand=True, n=1).astype('category')\n",
    "test_df = test_df.rename(columns={'attack_type': 'type'})"
   ]
  },
  {
   "cell_type": "code",
   "execution_count": 6,
   "metadata": {},
   "outputs": [
    {
     "data": {
      "text/html": [
       "<div>\n",
       "<style scoped>\n",
       "    .dataframe tbody tr th:only-of-type {\n",
       "        vertical-align: middle;\n",
       "    }\n",
       "\n",
       "    .dataframe tbody tr th {\n",
       "        vertical-align: top;\n",
       "    }\n",
       "\n",
       "    .dataframe thead th {\n",
       "        text-align: right;\n",
       "    }\n",
       "</style>\n",
       "<table border=\"1\" class=\"dataframe\">\n",
       "  <thead>\n",
       "    <tr style=\"text-align: right;\">\n",
       "      <th></th>\n",
       "      <th>watcher_country</th>\n",
       "      <th>watcher_as_name</th>\n",
       "      <th>attacker_country</th>\n",
       "      <th>attacker_as_num</th>\n",
       "      <th>attacker_as_name</th>\n",
       "      <th>type</th>\n",
       "      <th>watcher_uuid_enum</th>\n",
       "      <th>attacker_ip_enum</th>\n",
       "      <th>label</th>\n",
       "      <th>attack_month</th>\n",
       "      <th>attack_day</th>\n",
       "      <th>attack_hour</th>\n",
       "      <th>service</th>\n",
       "    </tr>\n",
       "  </thead>\n",
       "  <tbody>\n",
       "    <tr>\n",
       "      <th>0</th>\n",
       "      <td>DE</td>\n",
       "      <td>Host Europe GmbH</td>\n",
       "      <td>TR</td>\n",
       "      <td>47721.0</td>\n",
       "      <td>Murat Aktas</td>\n",
       "      <td>exploit</td>\n",
       "      <td>0</td>\n",
       "      <td>6466</td>\n",
       "      <td>0</td>\n",
       "      <td>7</td>\n",
       "      <td>31</td>\n",
       "      <td>7</td>\n",
       "      <td>http</td>\n",
       "    </tr>\n",
       "    <tr>\n",
       "      <th>1</th>\n",
       "      <td>DE</td>\n",
       "      <td>Host Europe GmbH</td>\n",
       "      <td>TR</td>\n",
       "      <td>47721.0</td>\n",
       "      <td>Murat Aktas</td>\n",
       "      <td>spam</td>\n",
       "      <td>0</td>\n",
       "      <td>6466</td>\n",
       "      <td>0</td>\n",
       "      <td>7</td>\n",
       "      <td>31</td>\n",
       "      <td>7</td>\n",
       "      <td>http</td>\n",
       "    </tr>\n",
       "    <tr>\n",
       "      <th>2</th>\n",
       "      <td>DE</td>\n",
       "      <td>bn:t Blatzheim Networks Telecom GmbH</td>\n",
       "      <td>DE</td>\n",
       "      <td>51167.0</td>\n",
       "      <td>Contabo GmbH</td>\n",
       "      <td>bruteforce</td>\n",
       "      <td>2</td>\n",
       "      <td>4637</td>\n",
       "      <td>0</td>\n",
       "      <td>7</td>\n",
       "      <td>31</td>\n",
       "      <td>7</td>\n",
       "      <td>http</td>\n",
       "    </tr>\n",
       "    <tr>\n",
       "      <th>3</th>\n",
       "      <td>DE</td>\n",
       "      <td>bn:t Blatzheim Networks Telecom GmbH</td>\n",
       "      <td>DE</td>\n",
       "      <td>51167.0</td>\n",
       "      <td>Contabo GmbH</td>\n",
       "      <td>spam</td>\n",
       "      <td>2</td>\n",
       "      <td>4637</td>\n",
       "      <td>0</td>\n",
       "      <td>7</td>\n",
       "      <td>31</td>\n",
       "      <td>7</td>\n",
       "      <td>http</td>\n",
       "    </tr>\n",
       "    <tr>\n",
       "      <th>4</th>\n",
       "      <td>DE</td>\n",
       "      <td>bn:t Blatzheim Networks Telecom GmbH</td>\n",
       "      <td>DE</td>\n",
       "      <td>51167.0</td>\n",
       "      <td>Contabo GmbH</td>\n",
       "      <td>exploit</td>\n",
       "      <td>2</td>\n",
       "      <td>4637</td>\n",
       "      <td>0</td>\n",
       "      <td>7</td>\n",
       "      <td>31</td>\n",
       "      <td>7</td>\n",
       "      <td>http</td>\n",
       "    </tr>\n",
       "  </tbody>\n",
       "</table>\n",
       "</div>"
      ],
      "text/plain": [
       "  watcher_country                       watcher_as_name attacker_country  \\\n",
       "0              DE                      Host Europe GmbH               TR   \n",
       "1              DE                      Host Europe GmbH               TR   \n",
       "2              DE  bn:t Blatzheim Networks Telecom GmbH               DE   \n",
       "3              DE  bn:t Blatzheim Networks Telecom GmbH               DE   \n",
       "4              DE  bn:t Blatzheim Networks Telecom GmbH               DE   \n",
       "\n",
       "   attacker_as_num attacker_as_name        type  watcher_uuid_enum  \\\n",
       "0          47721.0      Murat Aktas     exploit                  0   \n",
       "1          47721.0      Murat Aktas        spam                  0   \n",
       "2          51167.0     Contabo GmbH  bruteforce                  2   \n",
       "3          51167.0     Contabo GmbH        spam                  2   \n",
       "4          51167.0     Contabo GmbH     exploit                  2   \n",
       "\n",
       "   attacker_ip_enum  label  attack_month  attack_day  attack_hour service  \n",
       "0              6466      0             7          31            7    http  \n",
       "1              6466      0             7          31            7    http  \n",
       "2              4637      0             7          31            7    http  \n",
       "3              4637      0             7          31            7    http  \n",
       "4              4637      0             7          31            7    http  "
      ]
     },
     "execution_count": 6,
     "metadata": {},
     "output_type": "execute_result"
    }
   ],
   "source": [
    "train_df.compute().head()"
   ]
  },
  {
   "cell_type": "code",
   "execution_count": 7,
   "metadata": {},
   "outputs": [
    {
     "data": {
      "text/html": [
       "<div>\n",
       "<style scoped>\n",
       "    .dataframe tbody tr th:only-of-type {\n",
       "        vertical-align: middle;\n",
       "    }\n",
       "\n",
       "    .dataframe tbody tr th {\n",
       "        vertical-align: top;\n",
       "    }\n",
       "\n",
       "    .dataframe thead th {\n",
       "        text-align: right;\n",
       "    }\n",
       "</style>\n",
       "<table border=\"1\" class=\"dataframe\">\n",
       "  <thead>\n",
       "    <tr style=\"text-align: right;\">\n",
       "      <th></th>\n",
       "      <th>watcher_country</th>\n",
       "      <th>watcher_as_name</th>\n",
       "      <th>attacker_country</th>\n",
       "      <th>attacker_as_num</th>\n",
       "      <th>attacker_as_name</th>\n",
       "      <th>type</th>\n",
       "      <th>watcher_uuid_enum</th>\n",
       "      <th>attacker_ip_enum</th>\n",
       "      <th>attack_month</th>\n",
       "      <th>attack_day</th>\n",
       "      <th>attack_hour</th>\n",
       "      <th>service</th>\n",
       "    </tr>\n",
       "  </thead>\n",
       "  <tbody>\n",
       "    <tr>\n",
       "      <th>0</th>\n",
       "      <td>US</td>\n",
       "      <td>IMH-IAD</td>\n",
       "      <td>IN</td>\n",
       "      <td>14061.0</td>\n",
       "      <td>DIGITALOCEAN-ASN</td>\n",
       "      <td>spam</td>\n",
       "      <td>1</td>\n",
       "      <td>7696</td>\n",
       "      <td>7</td>\n",
       "      <td>31</td>\n",
       "      <td>7</td>\n",
       "      <td>http</td>\n",
       "    </tr>\n",
       "    <tr>\n",
       "      <th>1</th>\n",
       "      <td>US</td>\n",
       "      <td>IMH-IAD</td>\n",
       "      <td>IN</td>\n",
       "      <td>14061.0</td>\n",
       "      <td>DIGITALOCEAN-ASN</td>\n",
       "      <td>exploit</td>\n",
       "      <td>1</td>\n",
       "      <td>7696</td>\n",
       "      <td>7</td>\n",
       "      <td>31</td>\n",
       "      <td>7</td>\n",
       "      <td>http</td>\n",
       "    </tr>\n",
       "    <tr>\n",
       "      <th>2</th>\n",
       "      <td>US</td>\n",
       "      <td>IMH-IAD</td>\n",
       "      <td>IN</td>\n",
       "      <td>14061.0</td>\n",
       "      <td>DIGITALOCEAN-ASN</td>\n",
       "      <td>bruteforce</td>\n",
       "      <td>1</td>\n",
       "      <td>7696</td>\n",
       "      <td>7</td>\n",
       "      <td>31</td>\n",
       "      <td>7</td>\n",
       "      <td>http</td>\n",
       "    </tr>\n",
       "    <tr>\n",
       "      <th>3</th>\n",
       "      <td>US</td>\n",
       "      <td>IMH-IAD</td>\n",
       "      <td>IN</td>\n",
       "      <td>14061.0</td>\n",
       "      <td>DIGITALOCEAN-ASN</td>\n",
       "      <td>bruteforce</td>\n",
       "      <td>1</td>\n",
       "      <td>7696</td>\n",
       "      <td>7</td>\n",
       "      <td>31</td>\n",
       "      <td>7</td>\n",
       "      <td>http</td>\n",
       "    </tr>\n",
       "    <tr>\n",
       "      <th>4</th>\n",
       "      <td>US</td>\n",
       "      <td>GOOGLE-CLOUD-PLATFORM</td>\n",
       "      <td>US</td>\n",
       "      <td>53667.0</td>\n",
       "      <td>PONYNET</td>\n",
       "      <td>bruteforce</td>\n",
       "      <td>3</td>\n",
       "      <td>7543</td>\n",
       "      <td>7</td>\n",
       "      <td>31</td>\n",
       "      <td>7</td>\n",
       "      <td>http</td>\n",
       "    </tr>\n",
       "  </tbody>\n",
       "</table>\n",
       "</div>"
      ],
      "text/plain": [
       "  watcher_country        watcher_as_name attacker_country  attacker_as_num  \\\n",
       "0              US                IMH-IAD               IN          14061.0   \n",
       "1              US                IMH-IAD               IN          14061.0   \n",
       "2              US                IMH-IAD               IN          14061.0   \n",
       "3              US                IMH-IAD               IN          14061.0   \n",
       "4              US  GOOGLE-CLOUD-PLATFORM               US          53667.0   \n",
       "\n",
       "   attacker_as_name        type  watcher_uuid_enum  attacker_ip_enum  \\\n",
       "0  DIGITALOCEAN-ASN        spam                  1              7696   \n",
       "1  DIGITALOCEAN-ASN     exploit                  1              7696   \n",
       "2  DIGITALOCEAN-ASN  bruteforce                  1              7696   \n",
       "3  DIGITALOCEAN-ASN  bruteforce                  1              7696   \n",
       "4           PONYNET  bruteforce                  3              7543   \n",
       "\n",
       "   attack_month  attack_day  attack_hour service  \n",
       "0             7          31            7    http  \n",
       "1             7          31            7    http  \n",
       "2             7          31            7    http  \n",
       "3             7          31            7    http  \n",
       "4             7          31            7    http  "
      ]
     },
     "execution_count": 7,
     "metadata": {},
     "output_type": "execute_result"
    }
   ],
   "source": [
    "test_df.compute().head()"
   ]
  },
  {
   "cell_type": "markdown",
   "metadata": {},
   "source": [
    "# Features with shadon_df_hashed"
   ]
  },
  {
   "cell_type": "code",
   "execution_count": 8,
   "metadata": {},
   "outputs": [],
   "source": [
    "IMPORTANT_PORTS = set((\"80\", \"443\", \"4443\", \"8443\", \"8880\", \"8000\", \"9998\", \"1194\"))\n",
    "\n",
    "def extract_ports(value: dict):\n",
    "    return set(key.split(\"/\")[0] for key in value.keys())\n",
    "def check_reference_ports(ports):\n",
    "    return any(port in IMPORTANT_PORTS for port in ports)"
   ]
  },
  {
   "cell_type": "code",
   "execution_count": 12,
   "metadata": {},
   "outputs": [],
   "source": [
    "shodan_df = pd.read_csv('shodan_df_hashed.csv')\n",
    "shodan_df[\"shodan_info\"] = shodan_df[\"shodan_info\"].map(ast.literal_eval)\n",
    "shodan_df[\"shodan_open_ports\"] = shodan_df[\"shodan_info\"].map(extract_ports)"
   ]
  },
  {
   "cell_type": "code",
   "execution_count": 13,
   "metadata": {},
   "outputs": [],
   "source": [
    "# feature: numero de puertos abiertos por ip en shadon\n",
    "shodan_df['number_of_open_ports'] = shodan_df[\"shodan_open_ports\"].map(lambda x: len(x)).astype('int8')\n",
    "# Normalizar \n",
    "max_value = shodan_df['number_of_open_ports'].max()\n",
    "shodan_df['number_of_open_ports'] = (shodan_df['number_of_open_ports']) / max_value"
   ]
  },
  {
   "cell_type": "code",
   "execution_count": 14,
   "metadata": {},
   "outputs": [],
   "source": [
    "# feature: tiene algun puerto importante abierto\n",
    "shodan_df['ref_ports'] = shodan_df['shodan_open_ports'].apply(check_reference_ports).astype('int8')"
   ]
  },
  {
   "cell_type": "code",
   "execution_count": 15,
   "metadata": {},
   "outputs": [],
   "source": [
    "shodan_df = shodan_df.drop(['shodan_open_ports', 'shodan_info'], axis=1)"
   ]
  },
  {
   "cell_type": "code",
   "execution_count": 16,
   "metadata": {},
   "outputs": [],
   "source": [
    "train_df = train_df.merge(shodan_df, how='left', on='attacker_ip_enum')"
   ]
  },
  {
   "cell_type": "code",
   "execution_count": 17,
   "metadata": {},
   "outputs": [],
   "source": [
    "test_df = test_df.merge(shodan_df, how='left', on='attacker_ip_enum')"
   ]
  },
  {
   "cell_type": "code",
   "execution_count": 18,
   "metadata": {},
   "outputs": [],
   "source": [
    "train_df = train_df.drop(['attacker_ip_enum'], axis=1)"
   ]
  },
  {
   "cell_type": "code",
   "execution_count": 19,
   "metadata": {},
   "outputs": [
    {
     "data": {
      "text/html": [
       "<div>\n",
       "<style scoped>\n",
       "    .dataframe tbody tr th:only-of-type {\n",
       "        vertical-align: middle;\n",
       "    }\n",
       "\n",
       "    .dataframe tbody tr th {\n",
       "        vertical-align: top;\n",
       "    }\n",
       "\n",
       "    .dataframe thead th {\n",
       "        text-align: right;\n",
       "    }\n",
       "</style>\n",
       "<table border=\"1\" class=\"dataframe\">\n",
       "  <thead>\n",
       "    <tr style=\"text-align: right;\">\n",
       "      <th></th>\n",
       "      <th>watcher_country</th>\n",
       "      <th>watcher_as_name</th>\n",
       "      <th>attacker_country</th>\n",
       "      <th>attacker_as_num</th>\n",
       "      <th>attacker_as_name</th>\n",
       "      <th>type</th>\n",
       "      <th>watcher_uuid_enum</th>\n",
       "      <th>label</th>\n",
       "      <th>attack_month</th>\n",
       "      <th>attack_day</th>\n",
       "      <th>attack_hour</th>\n",
       "      <th>service</th>\n",
       "      <th>number_of_open_ports</th>\n",
       "      <th>ref_ports</th>\n",
       "    </tr>\n",
       "  </thead>\n",
       "  <tbody>\n",
       "    <tr>\n",
       "      <th>0</th>\n",
       "      <td>DE</td>\n",
       "      <td>Host Europe GmbH</td>\n",
       "      <td>TR</td>\n",
       "      <td>47721.0</td>\n",
       "      <td>Murat Aktas</td>\n",
       "      <td>exploit</td>\n",
       "      <td>0</td>\n",
       "      <td>0</td>\n",
       "      <td>7</td>\n",
       "      <td>31</td>\n",
       "      <td>7</td>\n",
       "      <td>http</td>\n",
       "      <td>0.133858</td>\n",
       "      <td>1</td>\n",
       "    </tr>\n",
       "    <tr>\n",
       "      <th>1</th>\n",
       "      <td>DE</td>\n",
       "      <td>Host Europe GmbH</td>\n",
       "      <td>TR</td>\n",
       "      <td>47721.0</td>\n",
       "      <td>Murat Aktas</td>\n",
       "      <td>spam</td>\n",
       "      <td>0</td>\n",
       "      <td>0</td>\n",
       "      <td>7</td>\n",
       "      <td>31</td>\n",
       "      <td>7</td>\n",
       "      <td>http</td>\n",
       "      <td>0.133858</td>\n",
       "      <td>1</td>\n",
       "    </tr>\n",
       "    <tr>\n",
       "      <th>2</th>\n",
       "      <td>DE</td>\n",
       "      <td>bn:t Blatzheim Networks Telecom GmbH</td>\n",
       "      <td>DE</td>\n",
       "      <td>51167.0</td>\n",
       "      <td>Contabo GmbH</td>\n",
       "      <td>bruteforce</td>\n",
       "      <td>2</td>\n",
       "      <td>0</td>\n",
       "      <td>7</td>\n",
       "      <td>31</td>\n",
       "      <td>7</td>\n",
       "      <td>http</td>\n",
       "      <td>0.165354</td>\n",
       "      <td>1</td>\n",
       "    </tr>\n",
       "    <tr>\n",
       "      <th>3</th>\n",
       "      <td>DE</td>\n",
       "      <td>bn:t Blatzheim Networks Telecom GmbH</td>\n",
       "      <td>DE</td>\n",
       "      <td>51167.0</td>\n",
       "      <td>Contabo GmbH</td>\n",
       "      <td>spam</td>\n",
       "      <td>2</td>\n",
       "      <td>0</td>\n",
       "      <td>7</td>\n",
       "      <td>31</td>\n",
       "      <td>7</td>\n",
       "      <td>http</td>\n",
       "      <td>0.165354</td>\n",
       "      <td>1</td>\n",
       "    </tr>\n",
       "    <tr>\n",
       "      <th>4</th>\n",
       "      <td>DE</td>\n",
       "      <td>bn:t Blatzheim Networks Telecom GmbH</td>\n",
       "      <td>DE</td>\n",
       "      <td>51167.0</td>\n",
       "      <td>Contabo GmbH</td>\n",
       "      <td>exploit</td>\n",
       "      <td>2</td>\n",
       "      <td>0</td>\n",
       "      <td>7</td>\n",
       "      <td>31</td>\n",
       "      <td>7</td>\n",
       "      <td>http</td>\n",
       "      <td>0.165354</td>\n",
       "      <td>1</td>\n",
       "    </tr>\n",
       "  </tbody>\n",
       "</table>\n",
       "</div>"
      ],
      "text/plain": [
       "  watcher_country                       watcher_as_name attacker_country  \\\n",
       "0              DE                      Host Europe GmbH               TR   \n",
       "1              DE                      Host Europe GmbH               TR   \n",
       "2              DE  bn:t Blatzheim Networks Telecom GmbH               DE   \n",
       "3              DE  bn:t Blatzheim Networks Telecom GmbH               DE   \n",
       "4              DE  bn:t Blatzheim Networks Telecom GmbH               DE   \n",
       "\n",
       "   attacker_as_num attacker_as_name        type  watcher_uuid_enum  label  \\\n",
       "0          47721.0      Murat Aktas     exploit                  0      0   \n",
       "1          47721.0      Murat Aktas        spam                  0      0   \n",
       "2          51167.0     Contabo GmbH  bruteforce                  2      0   \n",
       "3          51167.0     Contabo GmbH        spam                  2      0   \n",
       "4          51167.0     Contabo GmbH     exploit                  2      0   \n",
       "\n",
       "   attack_month  attack_day  attack_hour service  number_of_open_ports  \\\n",
       "0             7          31            7    http              0.133858   \n",
       "1             7          31            7    http              0.133858   \n",
       "2             7          31            7    http              0.165354   \n",
       "3             7          31            7    http              0.165354   \n",
       "4             7          31            7    http              0.165354   \n",
       "\n",
       "   ref_ports  \n",
       "0          1  \n",
       "1          1  \n",
       "2          1  \n",
       "3          1  \n",
       "4          1  "
      ]
     },
     "execution_count": 19,
     "metadata": {},
     "output_type": "execute_result"
    }
   ],
   "source": [
    "train_df.head()"
   ]
  },
  {
   "cell_type": "code",
   "execution_count": 20,
   "metadata": {},
   "outputs": [
    {
     "data": {
      "text/html": [
       "<div>\n",
       "<style scoped>\n",
       "    .dataframe tbody tr th:only-of-type {\n",
       "        vertical-align: middle;\n",
       "    }\n",
       "\n",
       "    .dataframe tbody tr th {\n",
       "        vertical-align: top;\n",
       "    }\n",
       "\n",
       "    .dataframe thead th {\n",
       "        text-align: right;\n",
       "    }\n",
       "</style>\n",
       "<table border=\"1\" class=\"dataframe\">\n",
       "  <thead>\n",
       "    <tr style=\"text-align: right;\">\n",
       "      <th></th>\n",
       "      <th>watcher_country</th>\n",
       "      <th>watcher_as_name</th>\n",
       "      <th>attacker_country</th>\n",
       "      <th>attacker_as_num</th>\n",
       "      <th>attacker_as_name</th>\n",
       "      <th>type</th>\n",
       "      <th>watcher_uuid_enum</th>\n",
       "      <th>attacker_ip_enum</th>\n",
       "      <th>attack_month</th>\n",
       "      <th>attack_day</th>\n",
       "      <th>attack_hour</th>\n",
       "      <th>service</th>\n",
       "      <th>number_of_open_ports</th>\n",
       "      <th>ref_ports</th>\n",
       "    </tr>\n",
       "  </thead>\n",
       "  <tbody>\n",
       "    <tr>\n",
       "      <th>0</th>\n",
       "      <td>US</td>\n",
       "      <td>IMH-IAD</td>\n",
       "      <td>IN</td>\n",
       "      <td>14061.0</td>\n",
       "      <td>DIGITALOCEAN-ASN</td>\n",
       "      <td>spam</td>\n",
       "      <td>1</td>\n",
       "      <td>7696</td>\n",
       "      <td>7</td>\n",
       "      <td>31</td>\n",
       "      <td>7</td>\n",
       "      <td>http</td>\n",
       "      <td>0.125984</td>\n",
       "      <td>1</td>\n",
       "    </tr>\n",
       "    <tr>\n",
       "      <th>1</th>\n",
       "      <td>US</td>\n",
       "      <td>IMH-IAD</td>\n",
       "      <td>IN</td>\n",
       "      <td>14061.0</td>\n",
       "      <td>DIGITALOCEAN-ASN</td>\n",
       "      <td>exploit</td>\n",
       "      <td>1</td>\n",
       "      <td>7696</td>\n",
       "      <td>7</td>\n",
       "      <td>31</td>\n",
       "      <td>7</td>\n",
       "      <td>http</td>\n",
       "      <td>0.125984</td>\n",
       "      <td>1</td>\n",
       "    </tr>\n",
       "    <tr>\n",
       "      <th>2</th>\n",
       "      <td>US</td>\n",
       "      <td>IMH-IAD</td>\n",
       "      <td>IN</td>\n",
       "      <td>14061.0</td>\n",
       "      <td>DIGITALOCEAN-ASN</td>\n",
       "      <td>bruteforce</td>\n",
       "      <td>1</td>\n",
       "      <td>7696</td>\n",
       "      <td>7</td>\n",
       "      <td>31</td>\n",
       "      <td>7</td>\n",
       "      <td>http</td>\n",
       "      <td>0.125984</td>\n",
       "      <td>1</td>\n",
       "    </tr>\n",
       "    <tr>\n",
       "      <th>3</th>\n",
       "      <td>US</td>\n",
       "      <td>IMH-IAD</td>\n",
       "      <td>IN</td>\n",
       "      <td>14061.0</td>\n",
       "      <td>DIGITALOCEAN-ASN</td>\n",
       "      <td>bruteforce</td>\n",
       "      <td>1</td>\n",
       "      <td>7696</td>\n",
       "      <td>7</td>\n",
       "      <td>31</td>\n",
       "      <td>7</td>\n",
       "      <td>http</td>\n",
       "      <td>0.125984</td>\n",
       "      <td>1</td>\n",
       "    </tr>\n",
       "    <tr>\n",
       "      <th>4</th>\n",
       "      <td>US</td>\n",
       "      <td>GOOGLE-CLOUD-PLATFORM</td>\n",
       "      <td>US</td>\n",
       "      <td>53667.0</td>\n",
       "      <td>PONYNET</td>\n",
       "      <td>bruteforce</td>\n",
       "      <td>3</td>\n",
       "      <td>7543</td>\n",
       "      <td>7</td>\n",
       "      <td>31</td>\n",
       "      <td>7</td>\n",
       "      <td>http</td>\n",
       "      <td>0.007874</td>\n",
       "      <td>0</td>\n",
       "    </tr>\n",
       "  </tbody>\n",
       "</table>\n",
       "</div>"
      ],
      "text/plain": [
       "  watcher_country        watcher_as_name attacker_country  attacker_as_num  \\\n",
       "0              US                IMH-IAD               IN          14061.0   \n",
       "1              US                IMH-IAD               IN          14061.0   \n",
       "2              US                IMH-IAD               IN          14061.0   \n",
       "3              US                IMH-IAD               IN          14061.0   \n",
       "4              US  GOOGLE-CLOUD-PLATFORM               US          53667.0   \n",
       "\n",
       "   attacker_as_name        type  watcher_uuid_enum  attacker_ip_enum  \\\n",
       "0  DIGITALOCEAN-ASN        spam                  1              7696   \n",
       "1  DIGITALOCEAN-ASN     exploit                  1              7696   \n",
       "2  DIGITALOCEAN-ASN  bruteforce                  1              7696   \n",
       "3  DIGITALOCEAN-ASN  bruteforce                  1              7696   \n",
       "4           PONYNET  bruteforce                  3              7543   \n",
       "\n",
       "   attack_month  attack_day  attack_hour service  number_of_open_ports  \\\n",
       "0             7          31            7    http              0.125984   \n",
       "1             7          31            7    http              0.125984   \n",
       "2             7          31            7    http              0.125984   \n",
       "3             7          31            7    http              0.125984   \n",
       "4             7          31            7    http              0.007874   \n",
       "\n",
       "   ref_ports  \n",
       "0          1  \n",
       "1          1  \n",
       "2          1  \n",
       "3          1  \n",
       "4          0  "
      ]
     },
     "execution_count": 20,
     "metadata": {},
     "output_type": "execute_result"
    }
   ],
   "source": [
    "test_df.head()"
   ]
  },
  {
   "cell_type": "markdown",
   "metadata": {},
   "source": [
    "# Features with Countries"
   ]
  },
  {
   "cell_type": "code",
   "execution_count": 21,
   "metadata": {},
   "outputs": [],
   "source": [
    "train_df['foreign_attacker_country'] = (train_df['watcher_country'].astype(str) != train_df['attacker_country'].astype(str)).astype('int8')\n",
    "test_df['foreign_attacker_country'] = (test_df['watcher_country'].astype(str) != test_df['attacker_country'].astype(str)).astype('int8')"
   ]
  },
  {
   "cell_type": "markdown",
   "metadata": {},
   "source": [
    "# Val and Train split"
   ]
  },
  {
   "cell_type": "code",
   "execution_count": 22,
   "metadata": {},
   "outputs": [],
   "source": [
    "from sklearn.model_selection import train_test_split\n",
    "train_df = train_df.compute()\n",
    "X_train, X_val = train_test_split(train_df, test_size=0.2, random_state=42, stratify=train_df['label'])"
   ]
  },
  {
   "cell_type": "markdown",
   "metadata": {},
   "source": [
    "# Imputation of Nulls"
   ]
  },
  {
   "cell_type": "code",
   "execution_count": 23,
   "metadata": {},
   "outputs": [],
   "source": [
    "from dask_ml.impute import SimpleImputer\n",
    "imputer = SimpleImputer(strategy='most_frequent')\n",
    "train_df_imputed = imputer.fit_transform(X_train)\n",
    "val_df_imputed = imputer.transform(X_val)\n",
    "test_df_imputed = imputer.transform(test_df)"
   ]
  },
  {
   "cell_type": "code",
   "execution_count": null,
   "metadata": {},
   "outputs": [],
   "source": [
    "train_df_imputed.to_parquet('train_imputed.parq')\n",
    "val_df_imputed.to_parquet('val_imputed.parq')"
   ]
  },
  {
   "cell_type": "code",
   "execution_count": 27,
   "metadata": {},
   "outputs": [],
   "source": [
    "test_df_imputed.compute().to_parquet('test_imputed.parq')"
   ]
  },
  {
   "cell_type": "markdown",
   "metadata": {},
   "source": [
    "# Encoding"
   ]
  },
  {
   "cell_type": "code",
   "execution_count": 2,
   "metadata": {},
   "outputs": [],
   "source": [
    "train_df = pd.read_parquet('train_imputed.parq')\n",
    "val_df = pd.read_parquet('val_imputed.parq')\n",
    "test_df = pd.read_parquet('test_imputed.parq')"
   ]
  },
  {
   "cell_type": "code",
   "execution_count": 3,
   "metadata": {},
   "outputs": [],
   "source": [
    "import category_encoders as ce\n",
    "ordinal_encoder = ce.OrdinalEncoder(cols=['watcher_country', 'attacker_country', 'watcher_as_name', 'service'])\n",
    "x_train_encoded = ordinal_encoder.fit_transform(train_df)\n",
    "x_val_encoded = ordinal_encoder.transform(val_df)\n",
    "x_test_encoded = ordinal_encoder.transform(test_df)"
   ]
  },
  {
   "cell_type": "code",
   "execution_count": 4,
   "metadata": {},
   "outputs": [],
   "source": [
    "mean_encoder = ce.TargetEncoder(cols=['attacker_as_name'])\n",
    "encoded_data_train = mean_encoder.fit_transform(x_train_encoded, x_train_encoded['label'])\n",
    "ecoded_data_val = mean_encoder.transform(x_val_encoded)\n",
    "encoded_data_test = mean_encoder.transform(x_test_encoded)"
   ]
  },
  {
   "cell_type": "code",
   "execution_count": 5,
   "metadata": {},
   "outputs": [],
   "source": [
    "encoded_data_train.to_parquet('train_encoded.parq')\n",
    "ecoded_data_val.to_parquet('val_encoded.parq')\n",
    "encoded_data_test.to_parquet('test_encoded.parq')"
   ]
  },
  {
   "cell_type": "code",
   "execution_count": 2,
   "metadata": {},
   "outputs": [],
   "source": [
    "x_train_encoded = pd.read_parquet('train_encoded.parq')\n",
    "x_val_encoded = pd.read_parquet('val_encoded.parq')\n",
    "x_test_encoded = pd.read_parquet('test_encoded.parq')"
   ]
  },
  {
   "cell_type": "code",
   "execution_count": 4,
   "metadata": {},
   "outputs": [],
   "source": [
    "oh_encoder = ce.OneHotEncoder(cols=['type'])\n",
    "encoded_data_train = oh_encoder.fit_transform(x_train_encoded)\n",
    "ecoded_data_val = oh_encoder.transform(x_val_encoded)\n",
    "encoded_data_test = oh_encoder.transform(x_test_encoded)"
   ]
  },
  {
   "cell_type": "code",
   "execution_count": 5,
   "metadata": {},
   "outputs": [],
   "source": [
    "encoded_data_train.to_parquet('train_encoded.parq')\n",
    "ecoded_data_val.to_parquet('val_encoded.parq')\n",
    "encoded_data_test.to_parquet('test_encoded.parq')"
   ]
  },
  {
   "cell_type": "markdown",
   "metadata": {},
   "source": [
    "# Normalization"
   ]
  },
  {
   "cell_type": "code",
   "execution_count": 2,
   "metadata": {},
   "outputs": [],
   "source": [
    "x_train_encoded = dd.read_parquet('train_encoded.parq')\n",
    "x_val_encoded = dd.read_parquet('val_encoded.parq')\n",
    "x_test_encoded = dd.read_parquet('test_encoded.parq')"
   ]
  },
  {
   "cell_type": "code",
   "execution_count": 3,
   "metadata": {},
   "outputs": [],
   "source": [
    "cols_to_normalize = ['watcher_uuid_enum', 'attacker_as_num', 'watcher_as_name', 'watcher_country', 'attacker_country', 'service', 'attack_month', 'attack_day', 'attack_hour']\n",
    "train_features_to_normalize = x_train_encoded[cols_to_normalize]\n",
    "val_features_to_normalize = x_val_encoded[cols_to_normalize]\n",
    "test_features_to_normalize = x_test_encoded[cols_to_normalize]"
   ]
  },
  {
   "cell_type": "code",
   "execution_count": 4,
   "metadata": {},
   "outputs": [],
   "source": [
    "from dask_ml.preprocessing import MinMaxScaler\n",
    "scaler = MinMaxScaler()\n",
    "train_features_normalized = scaler.fit_transform(train_features_to_normalize)\n",
    "val_features_normalized = scaler.transform(val_features_to_normalize)\n",
    "test_features_normalized = scaler.transform(test_features_to_normalize)\n",
    "x_train_encoded[cols_to_normalize] = train_features_normalized\n",
    "x_val_encoded[cols_to_normalize] = val_features_normalized\n",
    "x_test_encoded[cols_to_normalize] = test_features_normalized"
   ]
  },
  {
   "cell_type": "code",
   "execution_count": 5,
   "metadata": {},
   "outputs": [],
   "source": [
    "x_test_encoded.compute().to_parquet('test_normalized.parq')\n",
    "x_val_encoded.compute().to_parquet('val_normalized.parq')\n",
    "x_train_encoded.compute().to_parquet('train_normalized.parq')"
   ]
  },
  {
   "cell_type": "markdown",
   "metadata": {},
   "source": [
    "# Hyper Parameter Search"
   ]
  },
  {
   "cell_type": "code",
   "execution_count": null,
   "metadata": {},
   "outputs": [],
   "source": [
    "from sklearn.model_selection import RandomizedSearchCV\n",
    "from sklearn.linear_model import SGDClassifier\n",
    "from dask_ml.model_selection import RandomizedSearchCV as DaskRandomizedSearchCV  \n",
    "train_ddf = dd.read_parquet('train_normalized.parq').sample(frac=0.1)\n",
    "y_train = train_ddf['label']\n",
    "train_df = train_ddf.drop('label', axis=1)\n",
    "model = SGDClassifier()\n",
    "param_grid = {\n",
    "    'loss': ['hinge', 'perceptron', 'huber', 'epsilon_insensitive'],\n",
    "    'alpha': [0.0001, 0.001, 0.01, 0.1],\n",
    "    'eta0': [0.0001, 0.001, 0.01, 0.1],\n",
    "    'penalty': ['l2', 'l1', 'elasticnet'],\n",
    "    'learning_rate': ['optimal', 'invscaling'],\n",
    "    'max_iter': [1500, 1850, 500, 2600],  \n",
    "}\n",
    "search = DaskRandomizedSearchCV(model, param_grid, random_state=42, scoring='f1')\n",
    "search.fit(train_df, y_train)\n",
    "print(f'Best score: {search.best_score_}')\n",
    "print(f'Best params: {search.best_params_}')\n",
    "print(f'Best estimator: {search.best_estimator_}')"
   ]
  },
  {
   "cell_type": "markdown",
   "metadata": {},
   "source": [
    "# Training"
   ]
  },
  {
   "cell_type": "code",
   "execution_count": 3,
   "metadata": {},
   "outputs": [
    {
     "name": "stdout",
     "output_type": "stream",
     "text": [
      "Entrenamiento completo para todos los batches\n",
      "Puntaje F1 del modelo: 0.6530211522020903\n"
     ]
    }
   ],
   "source": [
    "import pyarrow.parquet as pq\n",
    "from sklearn.metrics import f1_score  \n",
    "from sklearn.linear_model import SGDClassifier\n",
    "\n",
    "\n",
    "train_df = pq.ParquetFile('train_normalized.parq')\n",
    "\n",
    "model = SGDClassifier(penalty='l2', max_iter=1500, eta0=0.1, alpha=0.0001, loss='hinge', learning_rate='optimal')\n",
    "for batch in train_df.iter_batches(batch_size=100000):\n",
    "    df_batch = batch.to_pandas()\n",
    "    y_batch = df_batch['label']\n",
    "    X_batch = df_batch.drop('label', axis=1)  \n",
    "    # Entrena el modelo en el lote actual\n",
    "    model.partial_fit(X_batch, y_batch, classes=[0, 1])\n",
    "\n",
    "print('Entrenamiento completo para todos los batches')\n",
    "valid_df = pd.read_parquet('val_normalized.parq')\n",
    "y_valid = valid_df['label']\n",
    "X_valid = valid_df.drop('label', axis=1)\n",
    "\n",
    "y_pred = model.predict(X_valid)  \n",
    "f1 = f1_score(y_valid, y_pred)\n",
    "print(f'Puntaje F1 del modelo: {f1}')"
   ]
  },
  {
   "cell_type": "markdown",
   "metadata": {},
   "source": [
    "# Predict for test"
   ]
  },
  {
   "cell_type": "code",
   "execution_count": 4,
   "metadata": {},
   "outputs": [],
   "source": [
    "train_df = pd.read_parquet('train_normalized.parq')\n",
    "test_df = pd.read_parquet('test_normalized.parq')\n",
    "ips = test_df['attacker_ip_enum']\n",
    "train_df = train_df.drop('label', axis=1)\n",
    "feature_names = train_df.columns\n",
    "# Reordenar las columnas en X_test para que coincida con el orden del conjunto de entrenamiento\n",
    "X_test_reordered = test_df[feature_names]"
   ]
  },
  {
   "cell_type": "code",
   "execution_count": 5,
   "metadata": {},
   "outputs": [],
   "source": [
    "y_pred = model.predict(X_test_reordered)\n",
    "kaggle_df = pd.DataFrame({'attacker_ip_enum': ips, 'label': y_pred})\n",
    "kaggle_df = kaggle_df.groupby('attacker_ip_enum')['label'].apply(lambda x: x.mode().iloc[0]).reset_index(name='label')\n",
    "kaggle_df.to_csv('submission_sgd_model.csv', index=False)"
   ]
  }
 ],
 "metadata": {
  "kernelspec": {
   "display_name": "Python 3",
   "language": "python",
   "name": "python3"
  },
  "language_info": {
   "codemirror_mode": {
    "name": "ipython",
    "version": 3
   },
   "file_extension": ".py",
   "mimetype": "text/x-python",
   "name": "python",
   "nbconvert_exporter": "python",
   "pygments_lexer": "ipython3",
   "version": "3.9.7"
  }
 },
 "nbformat": 4,
 "nbformat_minor": 2
}
